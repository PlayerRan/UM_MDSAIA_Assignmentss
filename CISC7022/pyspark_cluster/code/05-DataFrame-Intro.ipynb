{
 "cells": [
  {
   "cell_type": "code",
   "execution_count": 1,
   "id": "b9cb5875-598a-4d74-be55-3795530d9206",
   "metadata": {},
   "outputs": [],
   "source": [
    "from pyspark.sql import SparkSession\n",
    "from pyspark.sql.functions import desc"
   ]
  },
  {
   "cell_type": "code",
   "execution_count": 2,
   "id": "afd73f68-a07d-47df-952e-38f0e681320c",
   "metadata": {},
   "outputs": [
    {
     "name": "stderr",
     "output_type": "stream",
     "text": [
      "Using Spark's default log4j profile: org/apache/spark/log4j-defaults.properties\n",
      "Setting default log level to \"WARN\".\n",
      "To adjust logging level use sc.setLogLevel(newLevel). For SparkR, use setLogLevel(newLevel).\n",
      "25/01/17 21:48:55 WARN NativeCodeLoader: Unable to load native-hadoop library for your platform... using builtin-java classes where applicable\n"
     ]
    }
   ],
   "source": [
    "# Create a SparkSession\n",
    "spark = SparkSession.builder \\\n",
    "    .appName(\"DataFrame-Demo\") \\\n",
    "    .master(\"spark://spark-master:7077\") \\\n",
    "    .getOrCreate()"
   ]
  },
  {
   "cell_type": "markdown",
   "id": "3b294de5-c4a9-4f03-8dbc-ee29caaf0b99",
   "metadata": {},
   "source": [
    "### Using RDDs"
   ]
  },
  {
   "cell_type": "code",
   "execution_count": 34,
   "id": "97c0daf5-9971-4e48-ae98-fc090a4edf14",
   "metadata": {},
   "outputs": [],
   "source": [
    "rdd = spark.sparkContext.textFile(\"hdfs://namenode:9000/input_files/words.txt\")"
   ]
  },
  {
   "cell_type": "code",
   "execution_count": 35,
   "id": "aaa118ae",
   "metadata": {},
   "outputs": [],
   "source": [
    "result_rdd = rdd.flatMap(lambda line: line.split(\" \")) \\\n",
    "    .map(lambda word: (word, 1)) \\\n",
    "    .reduceByKey(lambda a, b: a + b) \\\n",
    "    .sortBy(lambda x: x[1], ascending=False)"
   ]
  },
  {
   "cell_type": "code",
   "execution_count": 36,
   "id": "42366cd4",
   "metadata": {},
   "outputs": [
    {
     "data": {
      "text/plain": [
       "[\"Gone with the Wind is a 1939 American epic historical romance film adapted from the 1936 novel by Margaret Mitchell. The film was produced by David O. Selznick of Selznick International Pictures and directed by Victor Fleming. Set in the American South against the backdrop of the Civil War and the Reconstruction era, the film tells the story of Scarlett O'Hara (Vivien Leigh), the strong-willed daughter of a Georgia plantation owner, following her romantic pursuit of Ashley Wilkes (Leslie Howard), who is married to his cousin, Melanie Hamilton (Olivia de Havilland), and her subsequent marriage to Rhett Butler (Clark Gable).\",\n",
       " '',\n",
       " \"The film had a troubled production. The start of filming was delayed for two years until January 1939 because of Selznick's determination to secure Gable for the role of Rhett, and concluded in July. The role of Scarlett was difficult to cast, and 1,400 unknown women were interviewed for the part. Sidney Howard's original screenplay underwent many revisions by several writers to reduce it to a suitable length. The original director, George Cukor, was fired shortly after filming began, and was replaced by Fleming, who in turn was briefly replaced by Sam Wood while taking some time off due to exhaustion. Post-production concluded in November 1939, just a month before its premiere.\",\n",
       " '',\n",
       " 'It received generally positive reviews upon its release on December 15, 1939. While the casting was widely praised, the long running time received criticism. At the 12th Academy Awards, Gone with the Wind received ten Academy Awards (eight competitive, two honorary) from thirteen nominations, including wins for Best Picture, Best Director (Fleming), Best Adapted Screenplay (posthumously awarded to Sidney Howard), Best Actress (Leigh), and Best Supporting Actress (Hattie McDaniel, becoming the first African American to win an Academy Award). It set records for the total number of wins and nominations at the time.',\n",
       " '',\n",
       " 'Gone with the Wind was immensely popular when first released. It became the highest-earning film made up to that point, and held the record for over a quarter of a century. When adjusted for monetary inflation, it is still the highest-grossing film in history. It was re-released periodically throughout the 20th century and became ingrained in popular culture. Although the film has been criticized as historical negationism, glorifying slavery and the Lost Cause of the Confederacy myth, it has been credited with triggering changes in the way in which African Americans were depicted cinematically. Gone with the Wind is regarded as one of the greatest films of all time, and in 1989 became one of the twenty-five inaugural films selected for preservation in the United States National Film Registry.']"
      ]
     },
     "execution_count": 36,
     "metadata": {},
     "output_type": "execute_result"
    }
   ],
   "source": [
    "rdd.collect()"
   ]
  },
  {
   "cell_type": "code",
   "execution_count": 37,
   "id": "96f3a503-e709-4248-91cf-5a55a1ee3549",
   "metadata": {},
   "outputs": [
    {
     "data": {
      "text/plain": [
       "[('the', 31), ('of', 15), ('and', 12), ('in', 10), ('to', 10)]"
      ]
     },
     "execution_count": 37,
     "metadata": {},
     "output_type": "execute_result"
    }
   ],
   "source": [
    "result_rdd.take(5)"
   ]
  },
  {
   "cell_type": "markdown",
   "id": "a02b9bba-8a25-4e8e-aed9-edb6700b391b",
   "metadata": {},
   "source": [
    "### Using DataFrames"
   ]
  },
  {
   "cell_type": "code",
   "execution_count": 39,
   "id": "248e9131-53fb-4c39-b301-4d415dcc169d",
   "metadata": {},
   "outputs": [],
   "source": [
    "df = spark.read.text(\"hdfs://namenode:9000/input_files/data.txt\")\n",
    "\n",
    "result_df = df.selectExpr(\"explode(split(value, ' ')) as word\") \\\n",
    "    .groupBy(\"word\").count().orderBy(desc(\"count\"))"
   ]
  },
  {
   "cell_type": "code",
   "execution_count": 40,
   "id": "18231aa3-f162-4261-9a65-275f088f1675",
   "metadata": {},
   "outputs": [
    {
     "name": "stderr",
     "output_type": "stream",
     "text": [
      "                                                                                \r"
     ]
    },
    {
     "data": {
      "text/plain": [
       "[Row(word='the', count=12),\n",
       " Row(word='a', count=7),\n",
       " Row(word='of', count=7),\n",
       " Row(word='in', count=5),\n",
       " Row(word='distributed', count=5),\n",
       " Row(word='Spark', count=4),\n",
       " Row(word='API', count=3),\n",
       " Row(word='RDD', count=3),\n",
       " Row(word='is', count=3),\n",
       " Row(word='on', count=3)]"
      ]
     },
     "execution_count": 40,
     "metadata": {},
     "output_type": "execute_result"
    }
   ],
   "source": [
    "result_df.take(10)"
   ]
  },
  {
   "cell_type": "code",
   "execution_count": 41,
   "id": "a4ece8d9-ed91-4b4e-802f-a6e260dc46b4",
   "metadata": {},
   "outputs": [],
   "source": [
    "spark.stop()"
   ]
  },
  {
   "cell_type": "code",
   "execution_count": null,
   "id": "e509b04d-32b3-4b17-ab4e-6ed025b09762",
   "metadata": {},
   "outputs": [],
   "source": []
  }
 ],
 "metadata": {
  "kernelspec": {
   "display_name": "pyspark",
   "language": "python",
   "name": "python3"
  },
  "language_info": {
   "codemirror_mode": {
    "name": "ipython",
    "version": 3
   },
   "file_extension": ".py",
   "mimetype": "text/x-python",
   "name": "python",
   "nbconvert_exporter": "python",
   "pygments_lexer": "ipython3",
   "version": "3.7.12"
  }
 },
 "nbformat": 4,
 "nbformat_minor": 5
}
